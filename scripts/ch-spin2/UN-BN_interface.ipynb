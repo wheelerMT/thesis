{
 "cells": [
  {
   "cell_type": "code",
   "execution_count": 1,
   "metadata": {},
   "outputs": [],
   "source": [
    "import cupy as cp\n",
    "import pygpe.spintwo as gpe\n",
    "from helper import get_linear_interp, get_tf_density_3d\n",
    "import matplotlib.pyplot as plt"
   ]
  },
  {
   "cell_type": "code",
   "execution_count": 2,
   "metadata": {},
   "outputs": [],
   "source": [
    "NX = 128\n",
    "NY = 128\n",
    "NZ = 128\n",
    "DX = 20 / NX\n",
    "DY = 20 / NY\n",
    "DZ = 20 / NZ\n",
    "\n",
    "points = (NX, NY, NZ)\n",
    "grid_spacings = (DX, DY, DZ)\n",
    "grid = gpe.Grid(points, grid_spacings)"
   ]
  },
  {
   "cell_type": "code",
   "execution_count": 12,
   "metadata": {},
   "outputs": [],
   "source": [
    "params = {\n",
    "    \"c0\": 1.32e4,\n",
    "    \"c2\": 146,\n",
    "    \"c4\": -129,\n",
    "    \"p\": 0.0,\n",
    "    \"q\": 0.3 * (get_linear_interp(grid.z_mesh) - 0.5),\n",
    "    \"trap\": 0.5 * (grid.x_mesh**2 + grid.y_mesh**2 + grid.z_mesh**2),\n",
    "    \"nt\": 100,\n",
    "    \"dt\": -1j * 1e-2,\n",
    "    \"t\": 0,\n",
    "}"
   ]
  },
  {
   "cell_type": "code",
   "execution_count": 13,
   "metadata": {},
   "outputs": [],
   "source": [
    "eta = get_linear_interp(grid.z_mesh)\n",
    "tf = get_tf_density_3d(params[\"c0\"], params[\"c2\"], grid.x_mesh, grid.y_mesh, grid.z_mesh, N=1)\n",
    "\n",
    "psip2 = cp.sqrt(tf) * cp.sqrt((1 - eta**2) / 2)\n",
    "psip1 = cp.random.normal(scale=1e-4, size=grid.shape)\n",
    "psi0 = cp.sqrt(tf) * eta\n",
    "psim1 = cp.random.normal(scale=1e-4, size=grid.shape)\n",
    "psim2 = cp.sqrt(tf) * cp.sqrt((1 - eta**2) / 2)\n",
    "\n",
    "psi = gpe.Wavefunction(grid)\n",
    "psi.set_custom_components(psip2, psip1, psi0, psim1, psim2)\n",
    "psi.fft()"
   ]
  },
  {
   "cell_type": "code",
   "execution_count": 14,
   "metadata": {},
   "outputs": [],
   "source": [
    "for i in range(params[\"nt\"]):\n",
    "    gpe.step_wavefunction(psi, params)\n",
    "psi.ifft()"
   ]
  }
 ],
 "metadata": {
  "kernelspec": {
   "display_name": ".venv",
   "language": "python",
   "name": "python3"
  },
  "language_info": {
   "codemirror_mode": {
    "name": "ipython",
    "version": 3
   },
   "file_extension": ".py",
   "mimetype": "text/x-python",
   "name": "python",
   "nbconvert_exporter": "python",
   "pygments_lexer": "ipython3",
   "version": "3.11.2"
  },
  "orig_nbformat": 4,
  "vscode": {
   "interpreter": {
    "hash": "ce9803ea3258476d722c705036ae75f8ad195f2787eaa1662c9eafbd056dedbf"
   }
  }
 },
 "nbformat": 4,
 "nbformat_minor": 2
}
