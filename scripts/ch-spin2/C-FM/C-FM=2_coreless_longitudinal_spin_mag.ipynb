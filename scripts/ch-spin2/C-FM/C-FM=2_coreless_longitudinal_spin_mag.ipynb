{
 "cells": [
  {
   "cell_type": "code",
   "execution_count": 35,
   "metadata": {},
   "outputs": [],
   "source": [
    "import h5py\n",
    "import numpy as np\n",
    "from pathlib import Path\n",
    "import helper\n",
    "import mayavi.mlab as maya"
   ]
  },
  {
   "cell_type": "code",
   "execution_count": 36,
   "metadata": {},
   "outputs": [],
   "source": [
    "path = Path(\"../../../../../../../thesis_code/data/spin-2\")\n",
    "filename = \"6f_C-FM=2_coreless.hdf5\"\n",
    "\n",
    "# Load data\n",
    "data = h5py.File(path / filename, \"r\")\n",
    "x, y, z = data[\"grid/x\"], data[\"grid/y\"], data[\"grid/z\"]\n",
    "X, Y, Z = np.meshgrid(x, y, z, indexing='ij')\n",
    "dx, dy, dz = x[1] - x[0], y[1] - y[0], z[1] - z[0]\n",
    "psip2 = data[\"wavefunction/psiP2\"][:, :, :, 2]\n",
    "psip1 = data[\"wavefunction/psiP1\"][:, :, :, 2]\n",
    "psi0 = data[\"wavefunction/psi0\"][:, :, :, 2]\n",
    "psim1 = data[\"wavefunction/psiM1\"][:, :, :, 2]\n",
    "psim2 = data[\"wavefunction/psiM2\"][:, :, :, 2]\n",
    "\n",
    "zetap2, zetap1, zeta0, zetam1, zetam2 = helper.normalise_wfn(psip2, psip1, psi0,\n",
    "                                                             psim1, psim2)"
   ]
  },
  {
   "cell_type": "code",
   "execution_count": 37,
   "metadata": {},
   "outputs": [],
   "source": [
    "# Tophat for smoothing plots\n",
    "sigma = 0.5\n",
    "c0 = 1.32e4\n",
    "c2 = 146\n",
    "g = c0 + 4 * c2\n",
    "rtf = (15 * g / (4 * np.pi)) ** 0.2\n",
    "tophat = 0.5 * (1 - np.tanh(sigma * (X ** 2 + Y ** 2 + Z ** 2 - rtf ** 2)))"
   ]
  },
  {
   "cell_type": "code",
   "execution_count": 38,
   "metadata": {},
   "outputs": [],
   "source": [
    "fx, fy, fz = helper.calc_spin_vectors(zetap2, zetap1, zeta0, zetam1, zetam2)\n",
    "spin_expec = tophat * np.sqrt(abs(fx) ** 2 + abs(fy) ** 2 + abs(fz) ** 2)"
   ]
  },
  {
   "cell_type": "code",
   "execution_count": 41,
   "metadata": {},
   "outputs": [],
   "source": [
    "X_plot, Y_plot, Z_plot = X[44:84, 44:84, 44:84], Y[44:84, 44:84, 44:84], Z[44:84, 44:84, 44:84]\n",
    "spin_expec_plot = spin_expec[44:84, 44:84, 44:84]"
   ]
  },
  {
   "cell_type": "code",
   "execution_count": 43,
   "metadata": {},
   "outputs": [],
   "source": [
    "# maya.pipeline.volume(maya.pipeline.scalar_field(spin_expec_plot), vmin=0, vmax=2)\n",
    "maya.contour3d(X_plot, Y_plot, Z_plot, spin_expec_plot, vmin=0, vmax=2)\n",
    "maya.show()"
   ]
  }
 ],
 "metadata": {
  "kernelspec": {
   "display_name": ".venv",
   "language": "python",
   "name": "python3"
  },
  "language_info": {
   "codemirror_mode": {
    "name": "ipython",
    "version": 3
   },
   "file_extension": ".py",
   "mimetype": "text/x-python",
   "name": "python",
   "nbconvert_exporter": "python",
   "pygments_lexer": "ipython3",
   "version": "3.10.9"
  },
  "orig_nbformat": 4
 },
 "nbformat": 4,
 "nbformat_minor": 2
}
